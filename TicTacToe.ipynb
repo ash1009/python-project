{
 "cells": [
  {
   "cell_type": "code",
   "execution_count": 1,
   "metadata": {},
   "outputs": [],
   "source": [
    "from IPython.display import clear_output"
   ]
  },
  {
   "cell_type": "code",
   "execution_count": 2,
   "metadata": {},
   "outputs": [],
   "source": [
    "#creating board\n",
    "def display(board):\n",
    "    clear_output()\n",
    "    \n",
    "    print('   |   |   ')\n",
    "    print(' ' + board[1] + ' | ' + board[2] + ' | ' + board[3] + ' ')\n",
    "    print('   |   |   ')\n",
    "    print('-----------')\n",
    "    print('   |   |   ')\n",
    "    print(' ' + board[4] + ' | ' + board[5] + ' | ' + board[6] + ' ')\n",
    "    print('   |   |   ')\n",
    "    print('-----------')\n",
    "    print('   |   |   ')\n",
    "    print(' ' + board[7] + ' | ' + board[8] + ' | ' + board[9] + ' ')\n",
    "    print('   |   |   ')"
   ]
  },
  {
   "cell_type": "code",
   "execution_count": 3,
   "metadata": {},
   "outputs": [],
   "source": [
    "#player input\n",
    "def player_input():\n",
    "    mark = ''\n",
    "    \n",
    "    while mark not in ['X', 'O']:\n",
    "        mark = input('Player 1: What do you choose \"X\" or \"O\"? ').upper()\n",
    "        \n",
    "    if mark == 'X':\n",
    "        return ('X', 'O')\n",
    "    else:\n",
    "        return ('O', 'X')"
   ]
  },
  {
   "cell_type": "code",
   "execution_count": 4,
   "metadata": {},
   "outputs": [],
   "source": [
    "def place_maker(board, mark, position):\n",
    "    board[position] = mark"
   ]
  },
  {
   "cell_type": "code",
   "execution_count": 5,
   "metadata": {},
   "outputs": [],
   "source": [
    "#checkingn win\n",
    "def win_check(board, mark):\n",
    "    return (\n",
    "        (board[1] == mark and board[2] == mark and board[3] == mark) or #across top \n",
    "        (board[4] == mark and board[5] == mark and board[6] == mark) or #across middle\n",
    "        (board[7] == mark and board[8] == mark and board[9] == mark) or #across bottom\n",
    "        (board[1] == mark and board[4] == mark and board[7] == mark) or #column 1\n",
    "        (board[2] == mark and board[5] == mark and board[8] == mark) or #column 2\n",
    "        (board[3] == mark and board[6] == mark and board[9] == mark) or #column 3\n",
    "        (board[1] == mark and board[5] == mark and board[9] == mark) or #diagonal\n",
    "        (board[3] == mark and board[5] == mark and board[7] == mark) #diagonal\n",
    "           )"
   ]
  },
  {
   "cell_type": "code",
   "execution_count": 6,
   "metadata": {},
   "outputs": [],
   "source": [
    "#who goes first\n",
    "import random\n",
    "\n",
    "def first_player():\n",
    "    if random.randint(0, 1) == 0:\n",
    "        return 'Player 1'\n",
    "    else:\n",
    "        return 'Player 2'"
   ]
  },
  {
   "cell_type": "code",
   "execution_count": 7,
   "metadata": {},
   "outputs": [],
   "source": [
    "#checking if space free\n",
    "def space_free(board, position):\n",
    "    return board[position] == ' '"
   ]
  },
  {
   "cell_type": "code",
   "execution_count": 8,
   "metadata": {},
   "outputs": [],
   "source": [
    "#full board check\n",
    "def full_board(board):\n",
    "    for i in range(1, 10):\n",
    "        if space_free(board, i):\n",
    "            return False\n",
    "    return True"
   ]
  },
  {
   "cell_type": "code",
   "execution_count": 9,
   "metadata": {},
   "outputs": [],
   "source": [
    "#player choice\n",
    "def player_choice(board):\n",
    "    position = 0\n",
    "    \n",
    "    while position not in range(1, 10) or not space_free(board, position):\n",
    "        position = int(input('Enter the position of the mark(1-9) :'))\n",
    "        \n",
    "    return position"
   ]
  },
  {
   "cell_type": "code",
   "execution_count": 10,
   "metadata": {},
   "outputs": [],
   "source": [
    "#replay or no\n",
    "def replay():\n",
    "    return input('Do you want to play again? Enter \"Y\" or \"N\" ').lower().startswith('y')"
   ]
  },
  {
   "cell_type": "code",
   "execution_count": 12,
   "metadata": {},
   "outputs": [
    {
     "name": "stdout",
     "output_type": "stream",
     "text": [
      "Welcome to Tic Tac Toe\n",
      "Player 1: What do you choose \"X\" or \"O\"? \n",
      "Player 1: What do you choose \"X\" or \"O\"? x\n",
      "Player 1 will go first\n",
      "Are you ready to play? Enter \"Y\" or \"N\" n\n",
      "Do you want to play again? Enter \"Y\" or \"N\" n\n",
      "Thank you\n"
     ]
    }
   ],
   "source": [
    "#the game\n",
    "print('Welcome to Tic Tac Toe')\n",
    "\n",
    "#while the player wants to play\n",
    "while True:\n",
    "    tboard = [' '] * 10\n",
    "    player1_mark, player2_mark = player_input()\n",
    "    turn = first_player()\n",
    "    print(turn + ' will go first')\n",
    "    \n",
    "    play_game = input('Are you ready to play? Enter \"Y\" or \"N\" ').lower()\n",
    "    \n",
    "    if play_game == 'y':\n",
    "        game = True\n",
    "    else:\n",
    "        game = False\n",
    "        \n",
    "    #the game start\n",
    "    while game:\n",
    "        if turn == 'Player 1':\n",
    "            display(tboard)\n",
    "            position = player_choice(tboard)\n",
    "            place_maker(tboard, player1_mark, position)\n",
    "            \n",
    "            #if player 1 wins\n",
    "            if win_check(tboard, player1_mark):\n",
    "                display(tboard)\n",
    "                print('Congrates, player 1 has won!')\n",
    "                game = False\n",
    "            else:\n",
    "                #if draw\n",
    "                if full_board(tboard):\n",
    "                    display(tboard)\n",
    "                    print(\"It's been a draw!\")\n",
    "                    break\n",
    "                else:\n",
    "                    turn = 'Player 2'\n",
    "            \n",
    "        else:\n",
    "            display(tboard)\n",
    "            position = player_choice(tboard)\n",
    "            place_maker(tboard, player2_mark, position)\n",
    "            \n",
    "            #if player 2 wins\n",
    "            if win_check(tboard, player2_mark):\n",
    "                display(tboard)\n",
    "                print('Congrates, player 2 has won!')\n",
    "                game = False\n",
    "            else:\n",
    "                #if draw\n",
    "                if full_board(tboard):\n",
    "                    display(tboard)\n",
    "                    print(\"It's been a draw!\")\n",
    "                    break\n",
    "                else:\n",
    "                    turn = 'Player 1'\n",
    "    #if player wants to replay\n",
    "    if not replay():\n",
    "        print('Thank you')\n",
    "        break"
   ]
  },
  {
   "cell_type": "code",
   "execution_count": null,
   "metadata": {},
   "outputs": [],
   "source": []
  }
 ],
 "metadata": {
  "kernelspec": {
   "display_name": "Python 3",
   "language": "python",
   "name": "python3"
  },
  "language_info": {
   "codemirror_mode": {
    "name": "ipython",
    "version": 3
   },
   "file_extension": ".py",
   "mimetype": "text/x-python",
   "name": "python",
   "nbconvert_exporter": "python",
   "pygments_lexer": "ipython3",
   "version": "3.7.6"
  }
 },
 "nbformat": 4,
 "nbformat_minor": 4
}
